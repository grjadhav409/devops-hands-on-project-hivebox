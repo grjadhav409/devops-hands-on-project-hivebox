{
 "cells": [
  {
   "cell_type": "code",
   "execution_count": null,
   "id": "ff3b8ae5",
   "metadata": {
    "vscode": {
     "languageId": "plaintext"
    }
   },
   "outputs": [],
   "source": [
    "import numpy as np\n",
    "import matplotlib.pyplot as plt\n",
    "def plot_square(x, y):\n",
    "y_squared = np.square(y)\n",
    "return plt.plot(x, y_squared)"
   ]
  },
  {
   "cell_type": "code",
   "execution_count": null,
   "id": "86ffefa5",
   "metadata": {
    "vscode": {
     "languageId": "plaintext"
    }
   },
   "outputs": [],
   "source": []
  }
 ],
 "metadata": {
  "language_info": {
   "name": "python"
  }
 },
 "nbformat": 4,
 "nbformat_minor": 5
}
